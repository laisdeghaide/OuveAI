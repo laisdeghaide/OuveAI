{
 "cells": [
  {
   "cell_type": "code",
   "execution_count": 1,
   "metadata": {},
   "outputs": [],
   "source": [
    "from backend.pipeline import Pipeline"
   ]
  },
  {
   "cell_type": "code",
   "execution_count": 2,
   "metadata": {},
   "outputs": [
    {
     "name": "stdout",
     "output_type": "stream",
     "text": [
      "Loaded dataset and embeddings\n",
      "Built parser\n",
      "Built embedding generator\n",
      "Built semantic searcher\n"
     ]
    }
   ],
   "source": [
    "pipeline = Pipeline(\"api-key\")"
   ]
  },
  {
   "cell_type": "code",
   "execution_count": 3,
   "metadata": {},
   "outputs": [
    {
     "name": "stdout",
     "output_type": "stream",
     "text": [
      "Generating embeddings\n",
      "Semantic searching\n"
     ]
    },
    {
     "name": "stderr",
     "output_type": "stream",
     "text": [
      "100%|██████████| 5/5 [00:00<00:00, 1466.74it/s]"
     ]
    },
    {
     "name": "stdout",
     "output_type": "stream",
     "text": [
      "blue waterfall tear escape pink fall start blush control face hell eye green jealousy eat white lie tell time time colour colour burinin bright colour colour wavin high like wanna live black white colour gold shinin okay okay purple world wanna feel single black think lose time time colour colour burinin bright colour colour wavin high like wanna live black white colour colour colour colour colour yeah colour colour burinin bright colour colour wavin high like wanna live black white colour colour colour burinin bright colour colour wavin high like wanna live black white colour 19210\n",
      "baby baby know drive crazy look summer time come time discover come summer come summer come summer lookout girls face tan lie beach cover sand stretch long legs lie know beautiful have come summer come summer come summer come summer come summer come summer come summer lookout girls face tan lie beach cover sand stretch long legs lie know beautiful have come summer come summer come summer come summer come summer come summer come summer come summer come summer come summer come summer come summer 2459\n",
      "thing leave tear stain letter say late things better guess good go leave lonely long hold wait change kind fool wrong leave lonely long come mile away time watch taillights fade turn come home sure look like leave lonely long lonely long think instead belong leave lonely long come mile away time watch taillights fade turn come home sure look like leave lonely long lonely long come mile away time watch taillights fade turn come home sure look like leave lonely long lonely long 11732\n",
      "sweet little farmhouse gun ammunition driveway pickup truck shotgun rack camouflage paint path river good drinkin fishin shit hit know blame look away look away look away look away step bathtub barely cover towel get door college street grass husband away neighbor peak blind cause know overseas lose fix hair let inside lemonade yeah look away yeah look away look away look away colorful sight dark light black white grey look away sweet little girl fold flag foot white blue turn black suit dress headlights rain notice headstone white bouquets leftover respect purple wildflower come dirt grave colorful sight dark light black white grey look away look away look away look away look away look away look away look away look away look away look away look away 17006\n",
      "darken door come come hear go know wrong know wrong constant reminder light ask lose fade away watch world tear apart stoic mind bleed heart bleed heart light shin travel long travel long constant reminder light ask lose fade away fade away 26812\n"
     ]
    },
    {
     "name": "stderr",
     "output_type": "stream",
     "text": [
      "\n"
     ]
    }
   ],
   "source": [
    "embeddings = pipeline.execute_pipeline(\n",
    "    \"\"\" \n",
    "    I see a red door and\n",
    "    I want it painted black\n",
    "    No colors anymore\n",
    "    I want them to turn black\n",
    "\n",
    "    I see the girls walk by dressed\n",
    "    In their summer clothes\n",
    "    I have to turn my head\n",
    "    Until my darkness goes\n",
    "\n",
    "    I see a line of cars\n",
    "    And they're all painted black\n",
    "    With flowers and my love\n",
    "    Both never to come back\n",
    "\n",
    "    I see people turn their heads\n",
    "    And quickly look away\n",
    "    Like a newborn baby\n",
    "    It just happens every day\n",
    "\n",
    "    I look inside myself\n",
    "    And see my heart is black\n",
    "    I see my red door\n",
    "    And must have it painted black\n",
    "    \"\"\")"
   ]
  },
  {
   "cell_type": "code",
   "execution_count": 4,
   "metadata": {},
   "outputs": [
    {
     "data": {
      "text/plain": [
       "[{'artist': 'blue mitchell', 'title': 'when i fall in love'},\n",
       " {'artist': 'the undertones', 'title': 'here comes the summer'},\n",
       " {'artist': 'randy rogers band', 'title': 'lonely too long'},\n",
       " {'artist': 'the wood brothers', 'title': \"can't look away\"},\n",
       " {'artist': 'mumford & sons', 'title': 'reminder'}]"
      ]
     },
     "execution_count": 4,
     "metadata": {},
     "output_type": "execute_result"
    }
   ],
   "source": [
    "embeddings"
   ]
  },
  {
   "cell_type": "code",
   "execution_count": 5,
   "metadata": {},
   "outputs": [],
   "source": [
    "import pandas as pd"
   ]
  },
  {
   "cell_type": "code",
   "execution_count": 6,
   "metadata": {},
   "outputs": [],
   "source": [
    "df = pd.read_csv('without_lyric_commercial.csv')"
   ]
  },
  {
   "cell_type": "code",
   "execution_count": 9,
   "metadata": {},
   "outputs": [],
   "source": [
    "txt = \"blue waterfall tear escape pink fall start blush control face hell eye green jealousy eat white lie tell time time colour colour burinin bright colour colour wavin high like wanna live black white colour gold shinin okay okay purple world wanna feel single black think lose time time colour colour burinin bright colour colour wavin high like wanna live black white colour colour colour colour colour yeah colour colour burinin bright colour colour wavin high like wanna live black white colour colour colour burinin bright colour colour wavin high like wanna live black white colour\""
   ]
  },
  {
   "cell_type": "code",
   "execution_count": 10,
   "metadata": {},
   "outputs": [
    {
     "data": {
      "text/html": [
       "<div>\n",
       "<style scoped>\n",
       "    .dataframe tbody tr th:only-of-type {\n",
       "        vertical-align: middle;\n",
       "    }\n",
       "\n",
       "    .dataframe tbody tr th {\n",
       "        vertical-align: top;\n",
       "    }\n",
       "\n",
       "    .dataframe thead th {\n",
       "        text-align: right;\n",
       "    }\n",
       "</style>\n",
       "<table border=\"1\" class=\"dataframe\">\n",
       "  <thead>\n",
       "    <tr style=\"text-align: right;\">\n",
       "      <th></th>\n",
       "      <th>Unnamed: 0.1</th>\n",
       "      <th>Unnamed: 0</th>\n",
       "      <th>artist_name</th>\n",
       "      <th>track_name</th>\n",
       "      <th>release_date</th>\n",
       "      <th>genre</th>\n",
       "      <th>lyrics</th>\n",
       "      <th>len</th>\n",
       "      <th>dating</th>\n",
       "      <th>violence</th>\n",
       "      <th>...</th>\n",
       "      <th>sadness</th>\n",
       "      <th>feelings</th>\n",
       "      <th>danceability</th>\n",
       "      <th>loudness</th>\n",
       "      <th>acousticness</th>\n",
       "      <th>instrumentalness</th>\n",
       "      <th>valence</th>\n",
       "      <th>energy</th>\n",
       "      <th>topic</th>\n",
       "      <th>age</th>\n",
       "    </tr>\n",
       "  </thead>\n",
       "  <tbody>\n",
       "    <tr>\n",
       "      <th>19210</th>\n",
       "      <td>19210</td>\n",
       "      <td>59320</td>\n",
       "      <td>blue mitchell</td>\n",
       "      <td>when i fall in love</td>\n",
       "      <td>1994</td>\n",
       "      <td>jazz</td>\n",
       "      <td>blue waterfall tear escape pink fall start blu...</td>\n",
       "      <td>95</td>\n",
       "      <td>0.000923</td>\n",
       "      <td>0.300522</td>\n",
       "      <td>...</td>\n",
       "      <td>0.000923</td>\n",
       "      <td>0.000923</td>\n",
       "      <td>0.378317</td>\n",
       "      <td>0.379227</td>\n",
       "      <td>0.978916</td>\n",
       "      <td>0.931174</td>\n",
       "      <td>0.234336</td>\n",
       "      <td>0.042312</td>\n",
       "      <td>violence</td>\n",
       "      <td>0.371429</td>\n",
       "    </tr>\n",
       "  </tbody>\n",
       "</table>\n",
       "<p>1 rows × 32 columns</p>\n",
       "</div>"
      ],
      "text/plain": [
       "       Unnamed: 0.1  Unnamed: 0    artist_name           track_name  \\\n",
       "19210         19210       59320  blue mitchell  when i fall in love   \n",
       "\n",
       "       release_date genre                                             lyrics  \\\n",
       "19210          1994  jazz  blue waterfall tear escape pink fall start blu...   \n",
       "\n",
       "       len    dating  violence  ...   sadness  feelings  danceability  \\\n",
       "19210   95  0.000923  0.300522  ...  0.000923  0.000923      0.378317   \n",
       "\n",
       "       loudness  acousticness  instrumentalness   valence    energy     topic  \\\n",
       "19210  0.379227      0.978916          0.931174  0.234336  0.042312  violence   \n",
       "\n",
       "            age  \n",
       "19210  0.371429  \n",
       "\n",
       "[1 rows x 32 columns]"
      ]
     },
     "execution_count": 10,
     "metadata": {},
     "output_type": "execute_result"
    }
   ],
   "source": [
    "df[df['lyrics'] == txt]"
   ]
  },
  {
   "cell_type": "code",
   "execution_count": 11,
   "metadata": {},
   "outputs": [
    {
     "data": {
      "text/plain": [
       "Unnamed: 0.1                                                            11732\n",
       "Unnamed: 0                                                              35831\n",
       "artist_name                                                 randy rogers band\n",
       "track_name                                                    lonely too long\n",
       "release_date                                                             2008\n",
       "genre                                                                 country\n",
       "lyrics                      thing leave tear stain letter say late things ...\n",
       "len                                                                        84\n",
       "dating                                                               0.071059\n",
       "violence                                                             0.000675\n",
       "world/life                                                           0.000675\n",
       "night/time                                                           0.219627\n",
       "shake the audience                                                   0.000675\n",
       "family/gospel                                                        0.000675\n",
       "romantic                                                             0.000675\n",
       "communication                                                        0.158077\n",
       "obscene                                                              0.000675\n",
       "music                                                                0.068349\n",
       "movement/places                                                      0.000675\n",
       "light/visual perceptions                                             0.000675\n",
       "family/spiritual                                                     0.000675\n",
       "like/girls                                                           0.062259\n",
       "sadness                                                              0.389253\n",
       "feelings                                                             0.023278\n",
       "danceability                                                         0.609011\n",
       "loudness                                                             0.777556\n",
       "acousticness                                                          0.06014\n",
       "instrumentalness                                                          0.0\n",
       "valence                                                               0.65169\n",
       "energy                                                               0.733725\n",
       "topic                                                                 sadness\n",
       "age                                                                  0.171429\n",
       "Name: 11732, dtype: object"
      ]
     },
     "execution_count": 11,
     "metadata": {},
     "output_type": "execute_result"
    }
   ],
   "source": [
    "df.iloc[11732]"
   ]
  }
 ],
 "metadata": {
  "kernelspec": {
   "display_name": "Python 3",
   "language": "python",
   "name": "python3"
  },
  "language_info": {
   "codemirror_mode": {
    "name": "ipython",
    "version": 3
   },
   "file_extension": ".py",
   "mimetype": "text/x-python",
   "name": "python",
   "nbconvert_exporter": "python",
   "pygments_lexer": "ipython3",
   "version": "3.11.4"
  }
 },
 "nbformat": 4,
 "nbformat_minor": 2
}
